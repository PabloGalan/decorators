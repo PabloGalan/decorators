{
 "cells": [
  {
   "cell_type": "markdown",
   "id": "6d739679",
   "metadata": {},
   "source": [
    "Un decorador es esencialmente una función de alto orden (HOF) que toma como argumento de entrada la función a la que decora y se hace lo siguiente:\n"
   ]
  },
  {
   "cell_type": "code",
   "execution_count": 68,
   "id": "ab8cc4b2",
   "metadata": {},
   "outputs": [],
   "source": [
    "def mi_decorador(funcion):\n",
    "    ...\n",
    "\n",
    "@mi_decorador\n",
    "def mi_funcion(args, kwargs):\n",
    "    ...\n",
    "\n",
    "# En el tiempo de decoración (bloque inmediatamente superior con la @), se hace:\n",
    "#     mi_funcion = mi_decorador(mi_funcion)"
   ]
  },
  {
   "cell_type": "code",
   "execution_count": 1,
   "id": "0eb2351a",
   "metadata": {},
   "outputs": [
    {
     "data": {
      "text/plain": [
       "'Rosas rojas.'"
      ]
     },
     "execution_count": 3,
     "metadata": {},
     "output_type": "execute_result"
    }
   ],
   "source": [
    "def pick_roses(color):\n",
    "    return f'Rosas {color}.'\n",
    "\n",
    "\n",
    "def get_flowers(picker):  # Ejemplo de funcion de alto orden\n",
    "    return picker('rojas')\n",
    "\n",
    "\n",
    "get_flowers(pick_roses)"
   ]
  },
  {
   "cell_type": "code",
   "execution_count": 21,
   "id": "1fa5362e",
   "metadata": {},
   "outputs": [],
   "source": [
    "def decorator(funcion):\n",
    "    print(f'inside decorator body with decorated function {funcion.__name__}')\n",
    "    \n",
    "    def wrapped(*args, **kwargs):\n",
    "        print(f\"inside inner wrapper function with args: {args} and kwargs: {kwargs}\")\n",
    "        funcion(*args, **kwargs)  # Al parecer se puede omitir el return\n",
    "        \n",
    "    return wrapped"
   ]
  },
  {
   "cell_type": "code",
   "execution_count": 22,
   "id": "380d768e",
   "metadata": {},
   "outputs": [
    {
     "name": "stdout",
     "output_type": "stream",
     "text": [
      "inside decorator body with decorated function mi_funcion\n"
     ]
    }
   ],
   "source": [
    "@decorator\n",
    "def mi_funcion(a,b,c, **kw):\n",
    "    print(f'Dentro de mi_funcion()')"
   ]
  },
  {
   "cell_type": "code",
   "execution_count": 23,
   "id": "c5c495a7",
   "metadata": {},
   "outputs": [
    {
     "name": "stdout",
     "output_type": "stream",
     "text": [
      "finished decorating my_funcion()\n",
      "inside inner wrapper function with args: (1, 9, 3) and kwargs: {'d': 5, 'e': 4}\n",
      "Dentro de mi_funcion()\n",
      "immediately after my_function() line\n"
     ]
    }
   ],
   "source": [
    "print(\"finished decorating my_funcion()\")\n",
    "mi_funcion(1,9, 3, d=5,e=4)\n",
    "print(\"immediately after my_function() line\")"
   ]
  },
  {
   "cell_type": "code",
   "execution_count": 2,
   "id": "8fe1c0fa",
   "metadata": {},
   "outputs": [],
   "source": [
    "class Decorator(object):\n",
    "    \n",
    "    def __init__(self, funcion):\n",
    "        print(f'inside __init__ with decorated function {funcion.__name__}')\n",
    "        self.funcion = funcion\n",
    "        \n",
    "    def __call__(self, *args, **kwargs):\n",
    "        print(f\"inside __call__() with args: {args} and kwargs: {kwargs}\")\n",
    "        self.funcion(*args, **kwargs)\n"
   ]
  },
  {
   "cell_type": "code",
   "execution_count": 3,
   "id": "34d4b551",
   "metadata": {},
   "outputs": [
    {
     "name": "stdout",
     "output_type": "stream",
     "text": [
      "inside __init__ with decorated function mi_funcion\n"
     ]
    }
   ],
   "source": [
    "@Decorator\n",
    "def mi_funcion(a,b,c, **kw):\n",
    "    print(f'Dentro de mi_funcion()')"
   ]
  },
  {
   "cell_type": "code",
   "execution_count": 4,
   "id": "276d40a1",
   "metadata": {},
   "outputs": [
    {
     "name": "stdout",
     "output_type": "stream",
     "text": [
      "finished decorating my_funcion()\n",
      "inside __call__() with args: (1, 9, 3) and kwargs: {'d': 5, 'e': 4}\n",
      "Dentro de mi_funcion()\n",
      "immediately after my_function() line\n"
     ]
    }
   ],
   "source": [
    "print(\"finished decorating my_funcion()\")\n",
    "mi_funcion(1,9, 3, d=5,e=4)\n",
    "print(\"immediately after my_function() line\")"
   ]
  },
  {
   "cell_type": "code",
   "execution_count": 39,
   "id": "2b601530",
   "metadata": {},
   "outputs": [],
   "source": [
    "def mi_decorador(*decorador_args, **decorador_kwargs):\n",
    "    print(f'Dentro de mi_decorador con args {decorador_args} y kwargs {decorador_kwargs}')\n",
    "    \n",
    "    def inner(funcion):\n",
    "        print(f'Dentro de inner() con función {funcion.__name__}')\n",
    "        \n",
    "        def wrapped(*args, **kwargs):\n",
    "            print(f'Dentro de wrapped() con args {args} y kwargs {kwargs}')\n",
    "            return funcion(*args, **kwargs)\n",
    "        \n",
    "        return wrapped\n",
    "    \n",
    "    return inner"
   ]
  },
  {
   "cell_type": "code",
   "execution_count": 40,
   "id": "3b459d6f",
   "metadata": {},
   "outputs": [
    {
     "name": "stdout",
     "output_type": "stream",
     "text": [
      "Dentro de mi_decorador con args ('decorador_arg_1', 'decorador_arg_2') y kwargs {'a': 3, 'b': 5}\n",
      "Dentro de inner() con función fun\n"
     ]
    }
   ],
   "source": [
    "@mi_decorador('decorador_arg_1', 'decorador_arg_2', a=3, b=5)\n",
    "def fun(*args, **kwargs):\n",
    "    print(f\"inside fun() with args: {args} and kwargs: {kwargs}\")"
   ]
  },
  {
   "cell_type": "code",
   "execution_count": 41,
   "id": "d1ef15a0",
   "metadata": {},
   "outputs": [
    {
     "name": "stdout",
     "output_type": "stream",
     "text": [
      "finished decorating fun()\n",
      "Dentro de wrapped() con args (1, 9, 3) y kwargs {'d': 5, 'e': 4}\n",
      "inside fun() with args: (1, 9, 3) and kwargs: {'d': 5, 'e': 4}\n",
      "immediately after mi_funcion() line\n"
     ]
    }
   ],
   "source": [
    "print(\"finished decorating fun()\")\n",
    "fun(1,9, 3, d=5,e=4)\n",
    "print(\"immediately after mi_funcion() line\")"
   ]
  },
  {
   "cell_type": "code",
   "execution_count": 47,
   "id": "8e6539fa",
   "metadata": {},
   "outputs": [],
   "source": [
    "class MiDecorador(object):\n",
    "    \n",
    "    def __init__(self, *decorator_args, **decorator_kwargs):\n",
    "        print(f'Dentro de __init__() with decorator args {decorator_args} and decorator kwargs {decorator_kwargs}')\n",
    "        \n",
    "    def __call__(self, funcion):\n",
    "        print(f\"inside __call__() with function {funcion.__name__}\")\n",
    "        \n",
    "        def wrapped(self, *args, **kwargs):\n",
    "            print(f'Dentro de wrapped() con args {args} y kwargs {kwargs}')\n",
    "            return funcion(*args, **kwargs)\n",
    "        \n",
    "        return wrapped"
   ]
  },
  {
   "cell_type": "code",
   "execution_count": 48,
   "id": "6aa23dcb",
   "metadata": {},
   "outputs": [
    {
     "name": "stdout",
     "output_type": "stream",
     "text": [
      "Dentro de __init__() with decorator args ('decorator_arg_1', 'decorator_rg_2') and decorator kwargs {'a': 3, 'b': 4}\n",
      "inside __call__() with function fun\n"
     ]
    }
   ],
   "source": [
    "@MiDecorador('decorator_arg_1', 'decorator_rg_2', a=3, b=4)\n",
    "def fun(*args, **kwargs):\n",
    "    print(f\"inside fun() with args: {args} and kwargs: {kwargs}\")"
   ]
  },
  {
   "cell_type": "code",
   "execution_count": 44,
   "id": "ba18f669",
   "metadata": {},
   "outputs": [
    {
     "name": "stdout",
     "output_type": "stream",
     "text": [
      "finished decorating mi_funcion()\n",
      "Dentro de wrapped() con args (9, 3) y kwargs {'d': 5, 'e': 4}\n",
      "inside fun() with args: (9, 3) and kwargs: {'d': 5, 'e': 4}\n",
      "immediately after mi_funcion() line\n"
     ]
    }
   ],
   "source": [
    "print(\"finished decorating mi_funcion()\")\n",
    "fun(1,9, 3, d=5,e=4)\n",
    "print(\"immediately after mi_funcion() line\")"
   ]
  },
  {
   "cell_type": "code",
   "execution_count": 59,
   "id": "8367928b",
   "metadata": {},
   "outputs": [],
   "source": [
    "def time_this(function):\n",
    "    def wrapped(*args, **kwargs):\n",
    "        print('___Timer starts___')\n",
    "        from datetime import datetime\n",
    "        before = datetime.now()\n",
    "        x = function(*args, **kwargs)\n",
    "        after = datetime.now()\n",
    "        print('**Elapsed interval: {}**'.format(after - before))\n",
    "        return x\n",
    "    \n",
    "    return wrapped"
   ]
  },
  {
   "cell_type": "code",
   "execution_count": 60,
   "id": "2ca3ae30",
   "metadata": {},
   "outputs": [],
   "source": [
    "def time_all_class_methods(class_):\n",
    "    # decoration body - doing nothing really since we need to wait until the decorated object is instantiated\n",
    "    class Wrapper:\n",
    "        def __init__(self, *args, **kwargs):\n",
    "            print(f\"__init__() called with args: {args} and kwargs: {kwargs}\")\n",
    "            self.decorated_obj = class_(*args, **kwargs)\n",
    "            \n",
    "        def __getattribute__(self, s):\n",
    "            try:\n",
    "                x = super().__getattribute__(s)\n",
    "                return x\n",
    "            except AttributeError:\n",
    "                pass\n",
    "            \n",
    "            x = self.decorated_obj.__getattribute__(s)\n",
    "            if type(x) == type(self.__init__):\n",
    "                print(f\"attribute belonging to decorated_obj: {s}\")\n",
    "                return time_this(x)  # this is equivalent of just decorating the method with time_this\n",
    "            else:\n",
    "                return x\n",
    "    \n",
    "    return Wrapper  # decoration ends here"
   ]
  },
  {
   "cell_type": "code",
   "execution_count": 64,
   "id": "9c356030",
   "metadata": {},
   "outputs": [
    {
     "name": "stdout",
     "output_type": "stream",
     "text": [
      "before decoration\n",
      "after decoration\n"
     ]
    }
   ],
   "source": [
    "print(\"before decoration\")\n",
    "\n",
    "@time_all_class_methods\n",
    "class MyClass:\n",
    "    def __init__(self):\n",
    "        import time\n",
    "        print('entering MyClass.__init__')\n",
    "        time.sleep(1.8)\n",
    "        print(\"exiting MyClass.__init__\")\n",
    "        \n",
    "    def method_x(self):\n",
    "        print(\"entering MyClass.method_x\")\n",
    "        import time\n",
    "        time.sleep(0.7)\n",
    "        print(\"exiting MyClass.method_x\")\n",
    "        \n",
    "    def method_y(self):\n",
    "        print(\"entering MyClass.method_y\")\n",
    "        import time\n",
    "        time.sleep(1.2)\n",
    "        print(\"exiting MyClass.method_y\")\n",
    "\n",
    "print(\"after decoration\")"
   ]
  },
  {
   "cell_type": "code",
   "execution_count": 65,
   "id": "bf9853e5",
   "metadata": {},
   "outputs": [
    {
     "name": "stdout",
     "output_type": "stream",
     "text": [
      "__init__() called with args: () and kwargs: {}\n",
      "entering MyClass.__init__\n",
      "exiting MyClass.__init__\n"
     ]
    }
   ],
   "source": [
    "instance = MyClass()"
   ]
  },
  {
   "cell_type": "code",
   "execution_count": 66,
   "id": "7c61f2b5",
   "metadata": {},
   "outputs": [
    {
     "name": "stdout",
     "output_type": "stream",
     "text": [
      "object created\n",
      "attribute belonging to decorated_obj: method_x\n",
      "___Timer starts___\n",
      "entering MyClass.method_x\n",
      "exiting MyClass.method_x\n",
      "**Elapsed interval: 0:00:00.700873**\n",
      "attribute belonging to decorated_obj: method_y\n",
      "___Timer starts___\n",
      "entering MyClass.method_y\n",
      "exiting MyClass.method_y\n",
      "**Elapsed interval: 0:00:01.201363**\n"
     ]
    }
   ],
   "source": [
    "print(\"object created\")\n",
    "instance.method_x()\n",
    "instance.method_y()"
   ]
  },
  {
   "cell_type": "code",
   "execution_count": null,
   "id": "f1287d85",
   "metadata": {},
   "outputs": [],
   "source": []
  },
  {
   "cell_type": "code",
   "execution_count": 50,
   "id": "f0295db9",
   "metadata": {},
   "outputs": [],
   "source": [
    "# Ejemplo de funcionamiento de args y kwargs\n",
    "def fun(*args, **kwargs):\n",
    "    print(f\"inside fun() with args: {args} and kwargs: {kwargs}\")"
   ]
  },
  {
   "cell_type": "code",
   "execution_count": 51,
   "id": "c064d449",
   "metadata": {},
   "outputs": [
    {
     "name": "stdout",
     "output_type": "stream",
     "text": [
      "inside fun() with args: (3, 4) and kwargs: {'a': 7, 'b': 9}\n"
     ]
    }
   ],
   "source": [
    "fun(3,4,a=7,b=9)"
   ]
  },
  {
   "cell_type": "code",
   "execution_count": 57,
   "id": "105fa32f",
   "metadata": {},
   "outputs": [],
   "source": [
    "c=(3,4)\n",
    "d={'e':1, 'f':2}"
   ]
  },
  {
   "cell_type": "code",
   "execution_count": 58,
   "id": "e9a43b19",
   "metadata": {},
   "outputs": [
    {
     "name": "stdout",
     "output_type": "stream",
     "text": [
      "inside fun() with args: (3, 4) and kwargs: {'a': 7, 'b': 9, 'e': 1, 'f': 2}\n"
     ]
    }
   ],
   "source": [
    "fun(*c,a=7,b=9,**d)"
   ]
  }
 ],
 "metadata": {
  "kernelspec": {
   "display_name": "Python 3 (ipykernel)",
   "language": "python",
   "name": "python3"
  },
  "language_info": {
   "codemirror_mode": {
    "name": "ipython",
    "version": 3
   },
   "file_extension": ".py",
   "mimetype": "text/x-python",
   "name": "python",
   "nbconvert_exporter": "python",
   "pygments_lexer": "ipython3",
   "version": "3.9.10"
  },
  "toc": {
   "base_numbering": 1,
   "nav_menu": {},
   "number_sections": true,
   "sideBar": true,
   "skip_h1_title": false,
   "title_cell": "Table of Contents",
   "title_sidebar": "Contents",
   "toc_cell": false,
   "toc_position": {},
   "toc_section_display": true,
   "toc_window_display": false
  },
  "varInspector": {
   "cols": {
    "lenName": 16,
    "lenType": 16,
    "lenVar": 40
   },
   "kernels_config": {
    "python": {
     "delete_cmd_postfix": "",
     "delete_cmd_prefix": "del ",
     "library": "var_list.py",
     "varRefreshCmd": "print(var_dic_list())"
    },
    "r": {
     "delete_cmd_postfix": ") ",
     "delete_cmd_prefix": "rm(",
     "library": "var_list.r",
     "varRefreshCmd": "cat(var_dic_list()) "
    }
   },
   "types_to_exclude": [
    "module",
    "function",
    "builtin_function_or_method",
    "instance",
    "_Feature"
   ],
   "window_display": false
  }
 },
 "nbformat": 4,
 "nbformat_minor": 5
}
